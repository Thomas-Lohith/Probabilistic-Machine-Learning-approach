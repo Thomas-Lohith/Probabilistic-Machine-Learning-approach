{
 "cells": [
  {
   "cell_type": "code",
   "execution_count": 4,
   "metadata": {},
   "outputs": [],
   "source": [
    "import pandas as pd\n",
    "import time \n"
   ]
  },
  {
   "cell_type": "code",
   "execution_count": 16,
   "metadata": {},
   "outputs": [
    {
     "name": "stdout",
     "output_type": "stream",
     "text": [
      "                     time  03091002_x\n",
      "0 2024-11-26 00:00:00.000    1.022331\n",
      "1 2024-11-26 00:00:00.010    1.022461\n",
      "2 2024-11-26 00:00:00.020    1.022875\n",
      "3 2024-11-26 00:00:00.030    1.022477\n",
      "4 2024-11-26 00:00:00.040    1.022353\n",
      "                           time  03091002_x\n",
      "8639995 2024-11-26 23:59:59.950    1.022468\n",
      "8639996 2024-11-26 23:59:59.960    1.022270\n",
      "8639997 2024-11-26 23:59:59.970    1.022537\n",
      "8639998 2024-11-26 23:59:59.980    1.023083\n",
      "8639999 2024-11-26 23:59:59.990    1.022657\n"
     ]
    }
   ],
   "source": [
    "df = pd.read_parquet('/data/pool/c8x-98x/test_merge_script/20241126/20241126.parquet')\n",
    "print(df.head())\n",
    "print(df.tail())"
   ]
  },
  {
   "cell_type": "code",
   "execution_count": null,
   "metadata": {},
   "outputs": [],
   "source": []
  }
 ],
 "metadata": {
  "kernelspec": {
   "display_name": "Python 3",
   "language": "python",
   "name": "python3"
  },
  "language_info": {
   "codemirror_mode": {
    "name": "ipython",
    "version": 3
   },
   "file_extension": ".py",
   "mimetype": "text/x-python",
   "name": "python",
   "nbconvert_exporter": "python",
   "pygments_lexer": "ipython3",
   "version": "3.10.12"
  },
  "orig_nbformat": 4
 },
 "nbformat": 4,
 "nbformat_minor": 2
}
